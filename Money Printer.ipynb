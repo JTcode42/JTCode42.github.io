{
 "cells": [
  {
   "cell_type": "code",
   "execution_count": 1,
   "id": "supported-canon",
   "metadata": {},
   "outputs": [],
   "source": [
    "import numpy as np\n",
    "import pandas as pd"
   ]
  },
  {
   "cell_type": "markdown",
   "id": "transparent-ratio",
   "metadata": {},
   "source": [
    "### Missing Step: Access API\n",
    "\n",
    "Example Fetch Calls"
   ]
  },
  {
   "cell_type": "code",
   "execution_count": 6,
   "id": "indirect-cover",
   "metadata": {},
   "outputs": [],
   "source": [
    "tickerList = [\"IBM\",\"U\",\"O\",\"ARVL\",\"TSLA\",\"V\",\"T\",\"VZ\"]\n",
    "updated_market_prices = []\n",
    "rolling_average = {}\n",
    "for i in tickerList:\n",
    "    #fetch market price for i\n",
    "    updated_market_prices.append(i)\n",
    "    #print(updated_market_prices)\n",
    "# this will gather the prices of the ticker symbols in the tickerList at a variable frequency, (day, month, all-time)"
   ]
  },
  {
   "cell_type": "markdown",
   "id": "catholic-highland",
   "metadata": {},
   "source": [
    "### Create lists of stocks to buy that have dropped below the variable buy and above the variable sell multiplier"
   ]
  },
  {
   "cell_type": "code",
   "execution_count": null,
   "id": "about-convertible",
   "metadata": {},
   "outputs": [],
   "source": [
    "buy = .98  # adjust these percentages to buy and sell more or less frequently\n",
    "sell = 1.02\n",
    "buyAtMarket = []\n",
    "sellAtMarket = []\n",
    "for p in updated_market_prices:\n",
    "    if(p*buy <= True):\n",
    "        buyAtMarket.append(p)\n",
    "    if(p*sell >= True):\n",
    "        sellAtMarket.append(p)"
   ]
  },
  {
   "cell_type": "markdown",
   "id": "positive-victor",
   "metadata": {},
   "source": [
    "For simplicity the example above is using list notation. To properly function the updated_market_prices will need to be creating JSON arrays. This is an example of that format"
   ]
  },
  {
   "cell_type": "code",
   "execution_count": 8,
   "id": "studied-hindu",
   "metadata": {},
   "outputs": [
    {
     "name": "stdout",
     "output_type": "stream",
     "text": [
      "{'IBM': 125.54, 'VZ': 56.78}\n"
     ]
    }
   ],
   "source": [
    "updated_market_prices = {\"IBM\":125.54, \"VZ\": 56.78}\n",
    "print(updated_market_prices)"
   ]
  },
  {
   "cell_type": "markdown",
   "id": "prime-mouse",
   "metadata": {},
   "source": [
    "### Action Phase"
   ]
  },
  {
   "cell_type": "code",
   "execution_count": null,
   "id": "practical-coordinate",
   "metadata": {},
   "outputs": [],
   "source": [
    "for b in buyAtMarket:\n",
    "    # purchase stock through API at market price\n",
    "for s in sellAtMarket:\n",
    "    # sell stock through API at market price"
   ]
  }
 ],
 "metadata": {
  "kernelspec": {
   "display_name": "Python 3",
   "language": "python",
   "name": "python3"
  },
  "language_info": {
   "codemirror_mode": {
    "name": "ipython",
    "version": 3
   },
   "file_extension": ".py",
   "mimetype": "text/x-python",
   "name": "python",
   "nbconvert_exporter": "python",
   "pygments_lexer": "ipython3",
   "version": "3.8.8"
  }
 },
 "nbformat": 4,
 "nbformat_minor": 5
}
